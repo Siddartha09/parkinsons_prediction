{
 "cells": [
  {
   "cell_type": "code",
   "execution_count": 1,
   "id": "46d7c554",
   "metadata": {},
   "outputs": [],
   "source": [
    "import numpy as np\n",
    "from scipy import stats\n",
    "import pandas as pd\n",
    "import math \n",
    "import matplotlib as mpl\n",
    "import matplotlib.pyplot as plt\n",
    "import seaborn as sns\n",
    "import statsmodels.api as sm\n",
    "from statsmodels.stats.outliers_influence import variance_inflation_factor\n",
    "from scipy.stats import f\n",
    "from scipy.stats import ttest_ind\n",
    "from scipy.stats import chi2_contingency\n",
    "from sklearn.utils import resample\n",
    "import statsmodels.stats.multitest as smt\n",
    "from sklearn.model_selection import train_test_split\n",
    "from sklearn.svm import SVC\n",
    "from sklearn.metrics import accuracy_score"
   ]
  },
  {
   "cell_type": "code",
   "execution_count": 3,
   "id": "ad527bf4",
   "metadata": {},
   "outputs": [],
   "source": [
    "data = pd.read_excel('PD_data.xlsx')"
   ]
  },
  {
   "cell_type": "code",
   "execution_count": 5,
   "id": "fd78401e",
   "metadata": {},
   "outputs": [
    {
     "data": {
      "text/plain": [
       "(195, 26)"
      ]
     },
     "execution_count": 5,
     "metadata": {},
     "output_type": "execute_result"
    }
   ],
   "source": [
    "data.shape"
   ]
  },
  {
   "cell_type": "code",
   "execution_count": 7,
   "id": "e58fad54",
   "metadata": {},
   "outputs": [
    {
     "data": {
      "text/plain": [
       "name                0\n",
       "S                   0\n",
       "PPE                 0\n",
       "D2                  0\n",
       "spread2             0\n",
       "spread1             0\n",
       "DFA                 0\n",
       "RPDE                0\n",
       "HNR                 0\n",
       "NHR                 0\n",
       "Shimmer:DDA         0\n",
       "MDVP:APQ            0\n",
       "Shimmer:APQ5        0\n",
       "Shimmer:APQ3        0\n",
       "MDVP:Shimmer(dB)    0\n",
       "MDVP:Shimmer        0\n",
       "Jitter:DDP          0\n",
       "MDVP:PPQ            0\n",
       "MDVP:RAP            0\n",
       "MDVP:Jitter(Abs)    0\n",
       "MDVP:Jitter(%)      0\n",
       "MDVP:Flo(Hz)        0\n",
       "MDVP:Fhi(Hz)        0\n",
       "MDVP:Fo(Hz)         0\n",
       "Number              0\n",
       "status              0\n",
       "dtype: int64"
      ]
     },
     "execution_count": 7,
     "metadata": {},
     "output_type": "execute_result"
    }
   ],
   "source": [
    "data.isna().sum().sort_values(ascending=False)"
   ]
  },
  {
   "cell_type": "code",
   "execution_count": 8,
   "id": "97740d01",
   "metadata": {},
   "outputs": [
    {
     "data": {
      "text/plain": [
       "name                 object\n",
       "S                    object\n",
       "Number                int64\n",
       "MDVP:Fo(Hz)         float64\n",
       "MDVP:Fhi(Hz)        float64\n",
       "MDVP:Flo(Hz)        float64\n",
       "MDVP:Jitter(%)      float64\n",
       "MDVP:Jitter(Abs)    float64\n",
       "MDVP:RAP            float64\n",
       "MDVP:PPQ            float64\n",
       "Jitter:DDP          float64\n",
       "MDVP:Shimmer        float64\n",
       "MDVP:Shimmer(dB)    float64\n",
       "Shimmer:APQ3        float64\n",
       "Shimmer:APQ5        float64\n",
       "MDVP:APQ            float64\n",
       "Shimmer:DDA         float64\n",
       "NHR                 float64\n",
       "HNR                 float64\n",
       "RPDE                float64\n",
       "DFA                 float64\n",
       "spread1             float64\n",
       "spread2             float64\n",
       "D2                  float64\n",
       "PPE                 float64\n",
       "status                int64\n",
       "dtype: object"
      ]
     },
     "execution_count": 8,
     "metadata": {},
     "output_type": "execute_result"
    }
   ],
   "source": [
    "data.dtypes"
   ]
  },
  {
   "cell_type": "markdown",
   "id": "c0a8208a",
   "metadata": {},
   "source": []
  },
  {
   "cell_type": "code",
   "execution_count": null,
   "id": "894d4dee",
   "metadata": {},
   "outputs": [],
   "source": [
    "num_plots = len(num_cols)\n",
    "num_rows = 3\n",
    "no_cols = int(num_plots / num_rows) + (num_plots % num_rows > 0)\n",
    "fig, axs = plt.subplots(nrows=num_rows, ncols=no_cols, figsize=(20, 15))\n",
    "\n",
    "# iterate over the columns and plot a histogram for each numeric column\n",
    "row = 0\n",
    "col = 0\n",
    "for column in num_cols:\n",
    "    axs[row, col].hist(df[column], alpha=0.5, bins=20, color='orange')\n",
    "    axs[row, col].set_xlabel(column)\n",
    "    axs[row, col].set_ylabel('Frequency')\n",
    "    if col == (no_cols - 1):\n",
    "        row += 1\n",
    "        col = 0\n",
    "    else:\n",
    "        col += 1\n",
    "\n",
    "# show the plot\n",
    "plt.show()"
   ]
  }
 ],
 "metadata": {
  "kernelspec": {
   "display_name": "Python 3 (ipykernel)",
   "language": "python",
   "name": "python3"
  },
  "language_info": {
   "codemirror_mode": {
    "name": "ipython",
    "version": 3
   },
   "file_extension": ".py",
   "mimetype": "text/x-python",
   "name": "python",
   "nbconvert_exporter": "python",
   "pygments_lexer": "ipython3",
   "version": "3.9.6"
  }
 },
 "nbformat": 4,
 "nbformat_minor": 5
}
